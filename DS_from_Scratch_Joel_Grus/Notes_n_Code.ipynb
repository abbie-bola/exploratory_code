{
 "cells": [
  {
   "cell_type": "markdown",
   "id": "019f3183-9219-4885-83a0-2656ecabcc92",
   "metadata": {},
   "source": [
    "#### List Slicing\n",
    "testing out list slicing by creating my own list and playing around with it.\n",
    "Why? - I learned that you can slice lists while specifying a specific stride. I thought slicing only took a maximum of 2 \"arguments\", apparently, it can take 3"
   ]
  },
  {
   "cell_type": "code",
   "execution_count": 16,
   "id": "3db33c25-8854-4482-a401-ae1634791b3c",
   "metadata": {},
   "outputs": [
    {
     "name": "stdout",
     "output_type": "stream",
     "text": [
      "[0, 1, 2, 3, 4, 5, 6, 7, 8]\n",
      "[10, 9, 8, 7, 6, 5, 4, 3, 2, 1, 0]\n",
      "[0, 2, 4]\n",
      "[0, 1, 2, 3, 4, 5, 6, 7, 8, 9, 10]\n"
     ]
    }
   ],
   "source": [
    "x = [0, 1, 2, 3, 4, 5, 6, 7, 8, 9, 10]\n",
    "a = x[:9]\n",
    "b = x[::-1]\n",
    "c = x[:5:2] # slices every 2 indexes from [0] to [4] -> expected [retrieves: 0, 2, 4]\n",
    "d = x[:] # retrieves all indexes\n",
    "\n",
    "print(a, b, c, d, sep=\"\\n\")\n",
    "\n",
    "# code executed correctly"
   ]
  },
  {
   "cell_type": "markdown",
   "id": "4206d7bc-0ada-4b5a-97cb-2618b8df487a",
   "metadata": {},
   "source": [
    "`'You can similarly slice strings and other “sequential” types.'`"
   ]
  },
  {
   "cell_type": "markdown",
   "id": "dc5d13ad-1213-4a2b-b68d-4e0145619bcb",
   "metadata": {},
   "source": [
    "#### List Modification\n",
    "Some new stuff I've learned about list modification I am experimenting with"
   ]
  },
  {
   "cell_type": "code",
   "execution_count": 27,
   "id": "9e20ec3d-5694-48b1-92dd-6a5d497fe20a",
   "metadata": {},
   "outputs": [
    {
     "data": {
      "text/plain": [
       "int"
      ]
     },
     "execution_count": 27,
     "metadata": {},
     "output_type": "execute_result"
    }
   ],
   "source": [
    "a, b = [1, 2]\n",
    "a # result: 1\n",
    "type(a) # result: int\n",
    "type (b) # result: int\n",
    "\n",
    "# 💡this means I can create multiple lists/arrays in one action \n",
    "# I wonder if it'll work for dictionaries"
   ]
  },
  {
   "cell_type": "code",
   "execution_count": 35,
   "id": "7d9f2a05-0faa-441b-962b-665def97c2d6",
   "metadata": {},
   "outputs": [
    {
     "data": {
      "text/plain": [
       "True"
      ]
     },
     "execution_count": 35,
     "metadata": {},
     "output_type": "execute_result"
    }
   ],
   "source": [
    "c, d = [[1, 2, 3, 4], [5, 6, 7, 8]]\n",
    "c, d # result: ([1, 2, 3, 4], [5, 6, 7, 8])\n",
    "c == d # expected: False # correct\n",
    "len(c) == len(d) # expected: True # correct"
   ]
  },
  {
   "cell_type": "code",
   "execution_count": 45,
   "id": "3530e6f2-0c80-49f8-b1cc-47565f29940d",
   "metadata": {},
   "outputs": [
    {
     "data": {
      "text/plain": [
       "{'four': 4, 'five': 5, 'six': 6}"
      ]
     },
     "execution_count": 45,
     "metadata": {},
     "output_type": "execute_result"
    }
   ],
   "source": [
    "# Testing this out on dictionaries \n",
    "e, f = [{\"one\":1, \"two\":2, \"three\":3}, {\"four\":4, \"five\":5, \"six\":6}] # expected: assign {}, {} to e and f respectively\n",
    "e\n",
    "f\n",
    "\n",
    "# it worked! hm (check if it's possible to leave comments between characters in a line of code)"
   ]
  },
  {
   "cell_type": "code",
   "execution_count": 51,
   "id": "923ed6a3-a8fc-48e4-8be5-6883e46c41fb",
   "metadata": {},
   "outputs": [
    {
     "name": "stdout",
     "output_type": "stream",
     "text": [
      "{'one': 1, 'two': 2, 'three': 3}\n",
      "this is a cool way to store data in variables!\n",
      "[5, 6, 7, 8]\n"
     ]
    }
   ],
   "source": [
    "# testing it out on list & dict & string\n",
    "g, h, i= [{\"one\":1, \"two\":2, \"three\":3}, \"this is a cool way to store data in variables!\", [5, 6, 7, 8]]\n",
    "\n",
    "print(g, h, i, sep=\"\\n\")"
   ]
  },
  {
   "cell_type": "code",
   "execution_count": 66,
   "id": "839f2037-ea23-45a0-b996-8956a56095fa",
   "metadata": {},
   "outputs": [
    {
     "data": {
      "text/plain": [
       "3"
      ]
     },
     "execution_count": 66,
     "metadata": {},
     "output_type": "execute_result"
    }
   ],
   "source": [
    "_, y = [3, 4] # _ commonly used for values we will throw away/ignore\n",
    "_ "
   ]
  },
  {
   "cell_type": "markdown",
   "id": "46128637-3540-4b33-8076-cb4566032e89",
   "metadata": {},
   "source": [
    "^^ all that is called MULTIPLE ASSIGNMENT"
   ]
  },
  {
   "cell_type": "code",
   "execution_count": 68,
   "id": "164541d1-27ed-4164-87aa-7f180fb4fd95",
   "metadata": {},
   "outputs": [],
   "source": [
    "# \"Tuples are a convenient way to return multiple values from functions:\" \n",
    "def sum_and_product(x, y):\n",
    " return (x + y), (x * y)\n",
    "sp = sum_and_product(2, 3) # sp is (5, 6)\n",
    "s, p = sum_and_product(5, 10) # s is 15, p is 50"
   ]
  },
  {
   "cell_type": "code",
   "execution_count": 70,
   "id": "2a56cb84-6f49-4212-a61e-c43e9bd2bcbf",
   "metadata": {},
   "outputs": [
    {
     "data": {
      "text/plain": [
       "((5, 6), 15, 50)"
      ]
     },
     "execution_count": 70,
     "metadata": {},
     "output_type": "execute_result"
    }
   ],
   "source": [
    "sp, s, p"
   ]
  },
  {
   "cell_type": "markdown",
   "id": "7bc34342-eba2-49da-ba89-acb1f4a7250a",
   "metadata": {},
   "source": [
    "`'Dictionaries have a get method that returns a default value (instead of raising an\n",
    "exception) when you look up a key that’s not in the dictionary:'`"
   ]
  },
  {
   "cell_type": "markdown",
   "id": "e5cb1b35-5c59-44c2-93d4-4d1a90d4661b",
   "metadata": {},
   "source": [
    "Only way to check if a value is in a dictionary, this method isn't required for checking keys\n",
    "\n",
    "`tweet_values = tweet.values() # iterable for the values\n",
    "\"joelgrus\" in tweet_values # True (slow but the only way to check)`"
   ]
  },
  {
   "cell_type": "markdown",
   "id": "a928bc76-1177-43da-920c-b47e466083ca",
   "metadata": {},
   "source": [
    "`'Dictionary keys must be “hashable”; in particular, you cannot use lists as keys. If you\n",
    "need a multipart key, you should probably use a tuple or figure out a way to turn the\n",
    "key into a string.'`"
   ]
  },
  {
   "cell_type": "code",
   "execution_count": null,
   "id": "34a8609d-df22-427d-ad16-2ff4b7b4eea7",
   "metadata": {},
   "outputs": [],
   "source": []
  },
  {
   "cell_type": "code",
   "execution_count": null,
   "id": "f47b10bf-7389-4b71-abf3-ed45ff324241",
   "metadata": {},
   "outputs": [],
   "source": []
  },
  {
   "cell_type": "code",
   "execution_count": null,
   "id": "17af38d0-14a6-4102-905f-72dc82c3d8aa",
   "metadata": {},
   "outputs": [],
   "source": []
  },
  {
   "cell_type": "code",
   "execution_count": null,
   "id": "f985e2e0-e03e-4f0a-9695-d12ebfb3dea0",
   "metadata": {},
   "outputs": [],
   "source": []
  },
  {
   "cell_type": "code",
   "execution_count": null,
   "id": "8c4c00b0-85a9-418f-816a-d20e4bd7c177",
   "metadata": {},
   "outputs": [],
   "source": []
  },
  {
   "cell_type": "code",
   "execution_count": null,
   "id": "4ebd1470-d518-4909-bf8c-db19856ef712",
   "metadata": {},
   "outputs": [],
   "source": []
  },
  {
   "cell_type": "code",
   "execution_count": null,
   "id": "83f14d36-16a0-432d-9bca-2285582e9ef8",
   "metadata": {},
   "outputs": [],
   "source": []
  },
  {
   "cell_type": "code",
   "execution_count": null,
   "id": "16e28e83-12e7-4770-8465-dcf3225f4eb3",
   "metadata": {},
   "outputs": [],
   "source": []
  },
  {
   "cell_type": "code",
   "execution_count": null,
   "id": "38745fef-47cb-4182-826a-95f03ae30919",
   "metadata": {},
   "outputs": [],
   "source": []
  },
  {
   "cell_type": "code",
   "execution_count": null,
   "id": "e02a47b9-b97c-459b-b16f-bb7b94e65377",
   "metadata": {},
   "outputs": [],
   "source": []
  },
  {
   "cell_type": "code",
   "execution_count": null,
   "id": "9fd3b62d-95cb-41ca-b5a6-a02b189d69a9",
   "metadata": {},
   "outputs": [],
   "source": []
  },
  {
   "cell_type": "code",
   "execution_count": null,
   "id": "5c49cdda-1a28-4b7a-ade5-6977d5f4ec08",
   "metadata": {},
   "outputs": [],
   "source": []
  }
 ],
 "metadata": {
  "kernelspec": {
   "display_name": "Python 3 (ipykernel)",
   "language": "python",
   "name": "python3"
  },
  "language_info": {
   "codemirror_mode": {
    "name": "ipython",
    "version": 3
   },
   "file_extension": ".py",
   "mimetype": "text/x-python",
   "name": "python",
   "nbconvert_exporter": "python",
   "pygments_lexer": "ipython3",
   "version": "3.10.15"
  }
 },
 "nbformat": 4,
 "nbformat_minor": 5
}
